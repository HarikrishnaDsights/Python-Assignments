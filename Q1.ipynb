{
 "cells": [
  {
   "cell_type": "markdown",
   "id": "9daabbdb-152b-4712-9d0a-39632ac8962a",
   "metadata": {},
   "source": [
    "### Q1: Empirical Probability :\n",
    "Simulate 10000 trails of tossing 5 coins , using the simulation calculate the probability getting 2 Heads in 5 Tosses. \n",
    " "
   ]
  },
  {
   "cell_type": "code",
   "execution_count": 1,
   "id": "7b8bf4f5-9c6c-47a2-816a-8c82f2e1252a",
   "metadata": {},
   "outputs": [],
   "source": [
    "import random"
   ]
  },
  {
   "cell_type": "code",
   "execution_count": 3,
   "id": "e33e623b-04de-40fd-a62d-deda2a6e2d03",
   "metadata": {},
   "outputs": [],
   "source": [
    "tosses = []  # empty list to store the results of each coin toss\n",
    "\n",
    "for _ in range(5):  # repeat 5 times\n",
    "    coin = random.choice([0, 1])  # randomly pick 0 (Tail) or 1 (Head)\n",
    "    tosses.append(coin)           # add the result to the list"
   ]
  },
  {
   "cell_type": "code",
   "execution_count": 4,
   "id": "27139a67-ae1a-4101-9e91-0435478a85e2",
   "metadata": {},
   "outputs": [
    {
     "data": {
      "text/plain": [
       "[0, 1, 1, 1, 0]"
      ]
     },
     "execution_count": 4,
     "metadata": {},
     "output_type": "execute_result"
    }
   ],
   "source": [
    "tosses"
   ]
  },
  {
   "cell_type": "code",
   "execution_count": 5,
   "id": "92e3be08-4079-43c8-b03e-43853b9de0b8",
   "metadata": {},
   "outputs": [
    {
     "data": {
      "text/plain": [
       "[0, 1, 0, 1, 0]"
      ]
     },
     "execution_count": 5,
     "metadata": {},
     "output_type": "execute_result"
    }
   ],
   "source": [
    "[random.choice([0,1]) for i in range(5)]"
   ]
  },
  {
   "cell_type": "code",
   "execution_count": 2,
   "id": "378acb24-30d8-4d97-8a05-a3e431f1d117",
   "metadata": {},
   "outputs": [
    {
     "name": "stdout",
     "output_type": "stream",
     "text": [
      "Tosses: [1, 1, 0, 0, 1]\n"
     ]
    }
   ],
   "source": [
    "# Step 1: Toss 5 coins (1 = Head, 0 = Tail)\n",
    "tosses = [random.choice([0, 1]) for _ in range(5)]\n",
    "print(\"Tosses:\", tosses)"
   ]
  },
  {
   "cell_type": "code",
   "execution_count": 7,
   "id": "d3e5dbe4-059f-44c3-a6a4-7438e1ae6292",
   "metadata": {},
   "outputs": [
    {
     "name": "stdout",
     "output_type": "stream",
     "text": [
      "Number of heads: 3\n",
      "Not exactly 2 heads\n"
     ]
    }
   ],
   "source": [
    "# Step 2: Count number of heads\n",
    "heads_count = sum(tosses)\n",
    "print(\"Number of heads:\", heads_count)\n",
    "\n",
    "# Step 3: Check if exactly 2 heads\n",
    "if heads_count == 2:\n",
    "    print(\"Success — exactly 2 heads\")\n",
    "else:\n",
    "    print(\"Not exactly 2 heads\")"
   ]
  },
  {
   "cell_type": "code",
   "execution_count": 11,
   "id": "34043cd8-c95e-4502-9683-d4a2f66b2fa7",
   "metadata": {},
   "outputs": [
    {
     "name": "stdout",
     "output_type": "stream",
     "text": [
      "Probability of exactly 2 Heads in 5 tosses: 0.3015\n"
     ]
    }
   ],
   "source": [
    "# Number of trials (experiments)\n",
    "trials = 10000  \n",
    "\n",
    "# Counter for successes (exactly 2 heads)\n",
    "success_count = 0  \n",
    "\n",
    "# Repeat simulation 'trials' times\n",
    "for _ in range(trials):\n",
    "    #  Toss 5 coins — 1 for Head, 0 for Tail\n",
    "    tosses = [random.choice([0, 1]) for _ in range(5)]\n",
    "    \n",
    "    # Count how many Heads (1's) we got\n",
    "    heads_count = sum(tosses)\n",
    "\n",
    "    # Check if exactly 2 heads occurred\n",
    "    if heads_count == 2:\n",
    "        success_count += 1\n",
    "\n",
    "# Calculate empirical probability\n",
    "probability = success_count / trials\n",
    "\n",
    "# Step 9: Print the result\n",
    "print(f\"Probability of exactly 2 Heads in 5 tosses: {probability:.4f}\")"
   ]
  },
  {
   "cell_type": "code",
   "execution_count": null,
   "id": "5c4e95e0-bb5b-48de-96f4-1cc178540941",
   "metadata": {},
   "outputs": [],
   "source": []
  }
 ],
 "metadata": {
  "kernelspec": {
   "display_name": "Python 3 (ipykernel)",
   "language": "python",
   "name": "python3"
  },
  "language_info": {
   "codemirror_mode": {
    "name": "ipython",
    "version": 3
   },
   "file_extension": ".py",
   "mimetype": "text/x-python",
   "name": "python",
   "nbconvert_exporter": "python",
   "pygments_lexer": "ipython3",
   "version": "3.13.1"
  }
 },
 "nbformat": 4,
 "nbformat_minor": 5
}
